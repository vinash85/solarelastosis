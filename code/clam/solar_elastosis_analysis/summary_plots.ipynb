{
 "cells": [
  {
   "cell_type": "code",
   "execution_count": null,
   "metadata": {},
   "outputs": [],
   "source": [
    "import pandas as pd\n",
    "from matplotlib import pyplot as plt"
   ]
  },
  {
   "cell_type": "code",
   "execution_count": null,
   "metadata": {},
   "outputs": [],
   "source": [
    "def three_config_plot(file_mm,file_mo,file_mmo,metric,fig_name):\n",
    "    df_summary_mm = pd.read_csv(file_mm)\n",
    "    df_summary_mo = pd.read_csv(file_mo)\n",
    "    df_summary_mmo = pd.read_csv(file_mmo)\n",
    "    #print(df_summary_mm[metric])\n",
    "    acc_mm = df_summary_mm[metric].to_numpy()\n",
    "    acc_mo = df_summary_mo[metric].to_numpy()\n",
    "    acc_mmo = df_summary_mmo[metric].to_numpy()\n",
    "    collective_se_metricv= [acc_mmo,acc_mm,acc_mo]\n",
    "    fig = plt.figure(figsize=[6, 6])\n",
    "    ax = fig.add_subplot(111)\n",
    "    ax.boxplot(collective_se_metricv)\n",
    "    ax.set_title(\"Customized box plot\")\n",
    "    ax.set_xlabel(\"Categories\")\n",
    "    if metric == \"test_acc\":\n",
    "        ax.set_ylabel(\"Accuracy\")\n",
    "    elif metric == \"test_auc\":\n",
    "        ax.set_ylabel(\"AUC\")\n",
    "    else:\n",
    "        ax.set_ylabel(\"Performance\")\n",
    "    ax.set_xticklabels([\"Three way\",\"Marked vs Mild\",\"Marked vs rest\"])\n",
    "    plt.show()\n",
    "    plt.savefig(fig_name)"
   ]
  },
  {
   "cell_type": "code",
   "execution_count": null,
   "metadata": {},
   "outputs": [],
   "source": [
    "file_mm =\"results/mild_vs_marked/summary.csv\"\n",
    "file_mo =\"results/severe_vs_other/summary.csv\"\n",
    "file_mmo=\"results/mild_vs_marked_none.csv\"\n",
    "\n",
    "three_config_plot(file_mm,file_mo,file_mmo,\"test_acc\",'different_cat_acc.svg')"
   ]
  },
  {
   "cell_type": "code",
   "execution_count": null,
   "metadata": {},
   "outputs": [],
   "source": [
    "file_mm =\"results/mild_vs_marked/summary.csv\"\n",
    "file_mo =\"results/severe_vs_other/summary.csv\"\n",
    "file_mmo=\"results/mild_vs_marked_none.csv\"\n",
    "\n",
    "three_config_plot(file_mm,file_mo,file_mmo,\"test_auc\",'different_cat_auc.svg')"
   ]
  }
 ],
 "metadata": {
  "language_info": {
   "name": "python"
  }
 },
 "nbformat": 4,
 "nbformat_minor": 2
}
